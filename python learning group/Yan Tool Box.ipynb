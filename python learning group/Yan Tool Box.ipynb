{
 "cells": [
  {
   "cell_type": "markdown",
   "metadata": {},
   "source": [
    "### Fuzzy matching demo\n",
    "Fuzzywuzzy package\n",
    "- Uses Levenshtein distance to measure the similarity between two string\n",
    "- library [link](https://anaconda.org/jkroes/fuzzywuzzy)\n",
    "- Referece code, [link](https://medium.com/better-programming/fuzzy-string-matching-with-python-cafeff0d29fe)"
   ]
  },
  {
   "cell_type": "code",
   "execution_count": 19,
   "metadata": {},
   "outputs": [],
   "source": [
    "from fuzzywuzzy import process, fuzz\n",
    "import pandas as pd"
   ]
  },
  {
   "cell_type": "markdown",
   "metadata": {},
   "source": [
    "#### Simple ratio\n",
    "The `ratio` method compares the whole string and follows the standard Levenshtein distance similarity ratio between two strings:"
   ]
  },
  {
   "cell_type": "code",
   "execution_count": 20,
   "metadata": {},
   "outputs": [
    {
     "name": "stdout",
     "output_type": "stream",
     "text": [
      "String Matched: 96\n",
      "String Matched: 91\n",
      "String Matched: 100\n"
     ]
    }
   ],
   "source": [
    "# Simple ratio\n",
    "String_Matched = fuzz.ratio('Hello World', 'Hello World!')\n",
    "print(\"String Matched:\",String_Matched)\n",
    "String_Matched = fuzz.ratio('Hello World', 'Hello world')\n",
    "print(\"String Matched:\",String_Matched)\n",
    "String_Matched = fuzz.ratio('Hello world', 'Hello world')\n",
    "print(\"String Matched:\",String_Matched)"
   ]
  },
  {
   "cell_type": "markdown",
   "metadata": {},
   "source": [
    "#### Partial ratio\n",
    "The `partial_ratio` method works on “optimal partial” logic. If the short string k and long string m are considered, the algorithm will score by matching the length of the k string:"
   ]
  },
  {
   "cell_type": "code",
   "execution_count": 23,
   "metadata": {},
   "outputs": [
    {
     "name": "stdout",
     "output_type": "stream",
     "text": [
      "String Matched: 100\n",
      "String Matched: 91\n"
     ]
    }
   ],
   "source": [
    "# Partial ratio\n",
    "Str_Partial_Match = fuzz.partial_ratio('Hello World', 'Hello World!')\n",
    "print(\"String Matched:\",Str_Partial_Match)\n",
    "Str_Partial_Match = fuzz.partial_ratio('Hello World', 'Hello world')\n",
    "print(\"String Matched:\",Str_Partial_Match)"
   ]
  },
  {
   "cell_type": "markdown",
   "metadata": {},
   "source": [
    "#### Token sort ratio\n",
    "The `token_sort_ratio` method sorts the tokens alphabetically. Then, the simple `ratio` method is applied to output the matched percentage:"
   ]
  },
  {
   "cell_type": "code",
   "execution_count": 24,
   "metadata": {},
   "outputs": [
    {
     "name": "stdout",
     "output_type": "stream",
     "text": [
      "String Matched: 91\n",
      "String Matched: 91\n"
     ]
    }
   ],
   "source": [
    "# Token sort ratio\n",
    "Str_Sort_Match = fuzz.token_sort_ratio('Hello World', 'Hello wrld')\n",
    "print(\"String Matched:\",Str_Partial_Match)\n",
    "Str_Sort_Match = fuzz.token_sort_ratio('Hello World', 'world Hello')\n",
    "print(\"String Matched:\",Str_Partial_Match)"
   ]
  },
  {
   "cell_type": "markdown",
   "metadata": {},
   "source": [
    "#### Token set ratio\n",
    "The `token_set_ratio` ignores the duplicate words. It is similar to the sort ratio method but more flexible. It basically extracts the common tokens and then applies `fuzz.ratio()` for comparisons:"
   ]
  },
  {
   "cell_type": "code",
   "execution_count": null,
   "metadata": {},
   "outputs": [],
   "source": [
    "# Token set ratio\n",
    "String_Matched=fuzz.token_set_ratio('Hello World', 'Hello Hello world')\n",
    "print(String_Matched)"
   ]
  },
  {
   "cell_type": "code",
   "execution_count": 156,
   "metadata": {},
   "outputs": [],
   "source": [
    "raw = pd.read_csv('data/fuzzy_matching_test.csv')\n",
    "tickers = pd.read_csv('data/nasdaq_screener_1609274234552.csv')\n",
    "df = raw[['stra', 'strb']]"
   ]
  },
  {
   "cell_type": "markdown",
   "metadata": {},
   "source": [
    "#### Example: Match tickers to a list of companies\n",
    "`tickers` is a dictionary of company name and stock tickers. Our goal is to get the sotck ticker by fuzzy matching standard company name to `stra` in dataframe `df`."
   ]
  },
  {
   "cell_type": "code",
   "execution_count": 158,
   "metadata": {},
   "outputs": [],
   "source": [
    "# Function searching ticker list and find the top 3 similar record\n",
    "def fuzzy_match(a_str, df, b_str, b_return, topN = 1):\n",
    "    df['score'] = df.apply(lambda row : fuzz.token_set_ratio(a_str.lower(), \n",
    "                                row[b_str].lower()), axis = 1)\n",
    "    # get the top record by similarity\n",
    "    top_record = df.nlargest(topN, 'score')[[b_str, b_return, 'score']]\n",
    "    \n",
    "    return top_record.iloc[0]\n",
    "#top_records[[b_str]], top_records[[b_return]] ,top_records[['score']]"
   ]
  },
  {
   "cell_type": "code",
   "execution_count": 166,
   "metadata": {},
   "outputs": [
    {
     "name": "stdout",
     "output_type": "stream",
     "text": [
      "Name      Facebook Inc. Class A Common Stock\n",
      "Symbol                                    FB\n",
      "score                                    100\n",
      "Name: 2397, dtype: object\n"
     ]
    }
   ],
   "source": [
    "print(fuzzy_match('facebook inc', tickers, 'Name' ,'Symbol'))"
   ]
  },
  {
   "cell_type": "code",
   "execution_count": 167,
   "metadata": {},
   "outputs": [],
   "source": [
    "df[['name','ticker','score']] = df.apply(lambda row : fuzzy_match(row['stra'], tickers, 'Name' ,'Symbol'), axis = 1)"
   ]
  },
  {
   "cell_type": "code",
   "execution_count": 168,
   "metadata": {},
   "outputs": [
    {
     "data": {
      "text/html": [
       "<div>\n",
       "<style scoped>\n",
       "    .dataframe tbody tr th:only-of-type {\n",
       "        vertical-align: middle;\n",
       "    }\n",
       "\n",
       "    .dataframe tbody tr th {\n",
       "        vertical-align: top;\n",
       "    }\n",
       "\n",
       "    .dataframe thead th {\n",
       "        text-align: right;\n",
       "    }\n",
       "</style>\n",
       "<table border=\"1\" class=\"dataframe\">\n",
       "  <thead>\n",
       "    <tr style=\"text-align: right;\">\n",
       "      <th></th>\n",
       "      <th>stra</th>\n",
       "      <th>strb</th>\n",
       "      <th>name</th>\n",
       "      <th>ticker</th>\n",
       "      <th>score</th>\n",
       "    </tr>\n",
       "  </thead>\n",
       "  <tbody>\n",
       "    <tr>\n",
       "      <th>0</th>\n",
       "      <td>apple inc</td>\n",
       "      <td>Apple</td>\n",
       "      <td>Apple Inc. Common Stock</td>\n",
       "      <td>AAPL</td>\n",
       "      <td>100</td>\n",
       "    </tr>\n",
       "    <tr>\n",
       "      <th>1</th>\n",
       "      <td>google inc</td>\n",
       "      <td>Google</td>\n",
       "      <td>New Gold Inc.</td>\n",
       "      <td>NGD</td>\n",
       "      <td>73</td>\n",
       "    </tr>\n",
       "    <tr>\n",
       "      <th>2</th>\n",
       "      <td>Hangzhou Alibaba</td>\n",
       "      <td>Alibaba</td>\n",
       "      <td>Alibaba Group Holding Limited American Deposit...</td>\n",
       "      <td>BABA</td>\n",
       "      <td>61</td>\n",
       "    </tr>\n",
       "  </tbody>\n",
       "</table>\n",
       "</div>"
      ],
      "text/plain": [
       "               stra     strb  \\\n",
       "0         apple inc    Apple   \n",
       "1        google inc   Google   \n",
       "2  Hangzhou Alibaba  Alibaba   \n",
       "\n",
       "                                                name ticker  score  \n",
       "0                            Apple Inc. Common Stock   AAPL    100  \n",
       "1                                      New Gold Inc.    NGD     73  \n",
       "2  Alibaba Group Holding Limited American Deposit...   BABA     61  "
      ]
     },
     "execution_count": 168,
     "metadata": {},
     "output_type": "execute_result"
    }
   ],
   "source": [
    "df"
   ]
  },
  {
   "cell_type": "code",
   "execution_count": null,
   "metadata": {},
   "outputs": [],
   "source": []
  }
 ],
 "metadata": {
  "kernelspec": {
   "display_name": "Python 3",
   "language": "python",
   "name": "python3"
  },
  "language_info": {
   "codemirror_mode": {
    "name": "ipython",
    "version": 3
   },
   "file_extension": ".py",
   "mimetype": "text/x-python",
   "name": "python",
   "nbconvert_exporter": "python",
   "pygments_lexer": "ipython3",
   "version": "3.7.9"
  }
 },
 "nbformat": 4,
 "nbformat_minor": 4
}
