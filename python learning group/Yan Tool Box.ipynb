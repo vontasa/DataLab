{
 "cells": [
  {
   "cell_type": "markdown",
   "metadata": {},
   "source": [
    "### Fuzzy matching demo\n",
    "Fuzzywuzzy package\n",
    "- Uses Levenshtein distance to measure the similarity between two string\n",
    "- library [link](https://anaconda.org/jkroes/fuzzywuzzy)\n",
    "- Referece code, [link](https://medium.com/better-programming/fuzzy-string-matching-with-python-cafeff0d29fe)"
   ]
  },
  {
   "cell_type": "code",
   "execution_count": 42,
   "metadata": {},
   "outputs": [],
   "source": [
    "from fuzzywuzzy import process, fuzz\n",
    "import pandas as pd"
   ]
  },
  {
   "cell_type": "markdown",
   "metadata": {},
   "source": [
    "#### Simple ratio\n",
    "The `ratio` method compares the whole string and follows the standard Levenshtein distance similarity ratio between two strings:"
   ]
  },
  {
   "cell_type": "code",
   "execution_count": 20,
   "metadata": {},
   "outputs": [
    {
     "name": "stdout",
     "output_type": "stream",
     "text": [
      "String Matched: 96\n",
      "String Matched: 91\n",
      "String Matched: 100\n"
     ]
    }
   ],
   "source": [
    "# Simple ratio\n",
    "String_Matched = fuzz.ratio('Hello World', 'Hello World!')\n",
    "print(\"String Matched:\",String_Matched)\n",
    "String_Matched = fuzz.ratio('Hello World', 'Hello world')\n",
    "print(\"String Matched:\",String_Matched)\n",
    "String_Matched = fuzz.ratio('Hello world', 'Hello world')\n",
    "print(\"String Matched:\",String_Matched)"
   ]
  },
  {
   "cell_type": "markdown",
   "metadata": {},
   "source": [
    "#### Partial ratio\n",
    "The `partial_ratio` method works on “optimal partial” logic. If the short string k and long string m are considered, the algorithm will score by matching the length of the k string:"
   ]
  },
  {
   "cell_type": "code",
   "execution_count": 23,
   "metadata": {},
   "outputs": [
    {
     "name": "stdout",
     "output_type": "stream",
     "text": [
      "String Matched: 100\n",
      "String Matched: 91\n"
     ]
    }
   ],
   "source": [
    "# Partial ratio\n",
    "Str_Partial_Match = fuzz.partial_ratio('Hello World', 'Hello World!')\n",
    "print(\"String Matched:\",Str_Partial_Match)\n",
    "Str_Partial_Match = fuzz.partial_ratio('Hello World', 'Hello world')\n",
    "print(\"String Matched:\",Str_Partial_Match)"
   ]
  },
  {
   "cell_type": "markdown",
   "metadata": {},
   "source": [
    "#### Token sort ratio\n",
    "The `token_sort_ratio` method sorts the tokens alphabetically. Then, the simple `ratio` method is applied to output the matched percentage:"
   ]
  },
  {
   "cell_type": "code",
   "execution_count": 24,
   "metadata": {},
   "outputs": [
    {
     "name": "stdout",
     "output_type": "stream",
     "text": [
      "String Matched: 91\n",
      "String Matched: 91\n"
     ]
    }
   ],
   "source": [
    "# Token sort ratio\n",
    "Str_Sort_Match = fuzz.token_sort_ratio('Hello World', 'Hello wrld')\n",
    "print(\"String Matched:\",Str_Partial_Match)\n",
    "Str_Sort_Match = fuzz.token_sort_ratio('Hello World', 'world Hello')\n",
    "print(\"String Matched:\",Str_Partial_Match)"
   ]
  },
  {
   "cell_type": "markdown",
   "metadata": {},
   "source": [
    "#### Token set ratio\n",
    "The `token_set_ratio` ignores the duplicate words. It is similar to the sort ratio method but more flexible. It basically extracts the common tokens and then applies `fuzz.ratio()` for comparisons:"
   ]
  },
  {
   "cell_type": "code",
   "execution_count": null,
   "metadata": {},
   "outputs": [],
   "source": [
    "# Token set ratio\n",
    "String_Matched=fuzz.token_set_ratio('Hello World', 'Hello Hello world')\n",
    "print(String_Matched)"
   ]
  },
  {
   "cell_type": "code",
   "execution_count": 58,
   "metadata": {},
   "outputs": [],
   "source": [
    "\n",
    "# Source of tickers: https://www.nasdaq.com/market-activity/stocks/screener?exchange=NASDAQ&render=download\n",
    "#raw = pd.read_csv('data/fuzzy_matching_test.csv')\n",
    "tickers = pd.read_csv('data/nasdaq_screener_1609274234552.csv')\n",
    "df = pd.read_csv('data/company_list.csv')"
   ]
  },
  {
   "cell_type": "code",
   "execution_count": 60,
   "metadata": {},
   "outputs": [
    {
     "data": {
      "text/html": [
       "<div>\n",
       "<style scoped>\n",
       "    .dataframe tbody tr th:only-of-type {\n",
       "        vertical-align: middle;\n",
       "    }\n",
       "\n",
       "    .dataframe tbody tr th {\n",
       "        vertical-align: top;\n",
       "    }\n",
       "\n",
       "    .dataframe thead th {\n",
       "        text-align: right;\n",
       "    }\n",
       "</style>\n",
       "<table border=\"1\" class=\"dataframe\">\n",
       "  <thead>\n",
       "    <tr style=\"text-align: right;\">\n",
       "      <th></th>\n",
       "      <th>company</th>\n",
       "      <th>val</th>\n",
       "    </tr>\n",
       "  </thead>\n",
       "  <tbody>\n",
       "    <tr>\n",
       "      <th>0</th>\n",
       "      <td>Abercrombie &amp; Fitch</td>\n",
       "      <td>0</td>\n",
       "    </tr>\n",
       "    <tr>\n",
       "      <th>1</th>\n",
       "      <td>Aritzia</td>\n",
       "      <td>0</td>\n",
       "    </tr>\n",
       "    <tr>\n",
       "      <th>2</th>\n",
       "      <td>At Home Group Inc.</td>\n",
       "      <td>0</td>\n",
       "    </tr>\n",
       "    <tr>\n",
       "      <th>3</th>\n",
       "      <td>Betterware</td>\n",
       "      <td>0</td>\n",
       "    </tr>\n",
       "    <tr>\n",
       "      <th>4</th>\n",
       "      <td>Big 5 Sporting Goods</td>\n",
       "      <td>0</td>\n",
       "    </tr>\n",
       "  </tbody>\n",
       "</table>\n",
       "</div>"
      ],
      "text/plain": [
       "                company  val\n",
       "0   Abercrombie & Fitch    0\n",
       "1               Aritzia    0\n",
       "2    At Home Group Inc.    0\n",
       "3            Betterware    0\n",
       "4  Big 5 Sporting Goods    0"
      ]
     },
     "execution_count": 60,
     "metadata": {},
     "output_type": "execute_result"
    }
   ],
   "source": [
    "df.head()"
   ]
  },
  {
   "cell_type": "markdown",
   "metadata": {},
   "source": [
    "#### Example: Match tickers to a list of companies\n",
    "`tickers` is a dictionary of company name and stock tickers. Our goal is to get the sotck ticker by fuzzy matching standard company name to `stra` in dataframe `df`."
   ]
  },
  {
   "cell_type": "code",
   "execution_count": 10,
   "metadata": {},
   "outputs": [],
   "source": [
    "# Function searching ticker list and find the top 3 similar record\n",
    "def fuzzy_match(a_str, df, b_str, b_return, topN = 1):\n",
    "    df['score'] = df.apply(lambda row : fuzz.token_set_ratio(a_str.lower(), \n",
    "                                row[b_str].lower()), axis = 1)\n",
    "    # get the top record by similarity\n",
    "    top_record = df.nlargest(topN, 'score')[[b_str, b_return, 'score']]\n",
    "    \n",
    "    return top_record.iloc[0]"
   ]
  },
  {
   "cell_type": "code",
   "execution_count": 22,
   "metadata": {},
   "outputs": [
    {
     "name": "stdout",
     "output_type": "stream",
     "text": [
      "Name      Big 5 Sporting Goods Corporation Common Stock\n",
      "Symbol                                             BGFV\n",
      "score                                               100\n",
      "Name: 856, dtype: object\n"
     ]
    }
   ],
   "source": [
    "print(fuzzy_match('Big 5 Sporting Goods', tickers, 'Name' ,'Symbol'))"
   ]
  },
  {
   "cell_type": "code",
   "execution_count": 61,
   "metadata": {},
   "outputs": [],
   "source": [
    "df[['name','ticker','score']] = df.apply(lambda row : fuzzy_match(row['company'], tickers, 'Name' ,'Symbol'), axis = 1)"
   ]
  },
  {
   "cell_type": "code",
   "execution_count": 62,
   "metadata": {},
   "outputs": [
    {
     "data": {
      "text/html": [
       "<div>\n",
       "<style scoped>\n",
       "    .dataframe tbody tr th:only-of-type {\n",
       "        vertical-align: middle;\n",
       "    }\n",
       "\n",
       "    .dataframe tbody tr th {\n",
       "        vertical-align: top;\n",
       "    }\n",
       "\n",
       "    .dataframe thead th {\n",
       "        text-align: right;\n",
       "    }\n",
       "</style>\n",
       "<table border=\"1\" class=\"dataframe\">\n",
       "  <thead>\n",
       "    <tr style=\"text-align: right;\">\n",
       "      <th></th>\n",
       "      <th>company</th>\n",
       "      <th>val</th>\n",
       "      <th>name</th>\n",
       "      <th>ticker</th>\n",
       "      <th>score</th>\n",
       "    </tr>\n",
       "  </thead>\n",
       "  <tbody>\n",
       "    <tr>\n",
       "      <th>0</th>\n",
       "      <td>Abercrombie &amp; Fitch</td>\n",
       "      <td>0</td>\n",
       "      <td>Abercrombie &amp; Fitch Company Common Stock</td>\n",
       "      <td>ANF</td>\n",
       "      <td>100</td>\n",
       "    </tr>\n",
       "    <tr>\n",
       "      <th>1</th>\n",
       "      <td>Aritzia</td>\n",
       "      <td>0</td>\n",
       "      <td>Alight Inc.</td>\n",
       "      <td>ALIT</td>\n",
       "      <td>47</td>\n",
       "    </tr>\n",
       "    <tr>\n",
       "      <th>2</th>\n",
       "      <td>At Home Group Inc.</td>\n",
       "      <td>0</td>\n",
       "      <td>At Home Group Inc. Common Stock</td>\n",
       "      <td>HOME</td>\n",
       "      <td>100</td>\n",
       "    </tr>\n",
       "    <tr>\n",
       "      <th>3</th>\n",
       "      <td>Betterware</td>\n",
       "      <td>0</td>\n",
       "      <td>Betterware de Mexico S.A.B. de C.V. Ordinary S...</td>\n",
       "      <td>BWMX</td>\n",
       "      <td>100</td>\n",
       "    </tr>\n",
       "    <tr>\n",
       "      <th>4</th>\n",
       "      <td>Big 5 Sporting Goods</td>\n",
       "      <td>0</td>\n",
       "      <td>Big 5 Sporting Goods Corporation Common Stock</td>\n",
       "      <td>BGFV</td>\n",
       "      <td>100</td>\n",
       "    </tr>\n",
       "    <tr>\n",
       "      <th>5</th>\n",
       "      <td>Big Lots</td>\n",
       "      <td>0</td>\n",
       "      <td>Big Lots Inc. Common Stock</td>\n",
       "      <td>BIG</td>\n",
       "      <td>100</td>\n",
       "    </tr>\n",
       "    <tr>\n",
       "      <th>6</th>\n",
       "      <td>Boot Barn Holdings, Inc.</td>\n",
       "      <td>0</td>\n",
       "      <td>Boot Barn Holdings Inc. Common Stock</td>\n",
       "      <td>BOOT</td>\n",
       "      <td>100</td>\n",
       "    </tr>\n",
       "    <tr>\n",
       "      <th>7</th>\n",
       "      <td>Caleres</td>\n",
       "      <td>0</td>\n",
       "      <td>Caleres Inc. Common Stock</td>\n",
       "      <td>CAL</td>\n",
       "      <td>100</td>\n",
       "    </tr>\n",
       "    <tr>\n",
       "      <th>8</th>\n",
       "      <td>Citi Trends</td>\n",
       "      <td>0</td>\n",
       "      <td>Citi Trends Inc. Common Stock</td>\n",
       "      <td>CTRN</td>\n",
       "      <td>100</td>\n",
       "    </tr>\n",
       "    <tr>\n",
       "      <th>9</th>\n",
       "      <td>Crocs, Inc.</td>\n",
       "      <td>0</td>\n",
       "      <td>Crocs Inc. Common Stock</td>\n",
       "      <td>CROX</td>\n",
       "      <td>100</td>\n",
       "    </tr>\n",
       "    <tr>\n",
       "      <th>10</th>\n",
       "      <td>Delta Apparel, Inc.</td>\n",
       "      <td>0</td>\n",
       "      <td>Delta Apparel Inc. Common Stock</td>\n",
       "      <td>DLA</td>\n",
       "      <td>100</td>\n",
       "    </tr>\n",
       "    <tr>\n",
       "      <th>11</th>\n",
       "      <td>Five Below</td>\n",
       "      <td>0</td>\n",
       "      <td>Five Below Inc. Common Stock</td>\n",
       "      <td>FIVE</td>\n",
       "      <td>100</td>\n",
       "    </tr>\n",
       "    <tr>\n",
       "      <th>12</th>\n",
       "      <td>Franchise Group Inc.</td>\n",
       "      <td>0</td>\n",
       "      <td>Franchise Group Inc. Common Stock</td>\n",
       "      <td>FRG</td>\n",
       "      <td>100</td>\n",
       "    </tr>\n",
       "    <tr>\n",
       "      <th>13</th>\n",
       "      <td>GameStop</td>\n",
       "      <td>0</td>\n",
       "      <td>GameStop Corporation Common Stock</td>\n",
       "      <td>GME</td>\n",
       "      <td>100</td>\n",
       "    </tr>\n",
       "    <tr>\n",
       "      <th>14</th>\n",
       "      <td>Genesco Inc.</td>\n",
       "      <td>0</td>\n",
       "      <td>Genesco Inc. Common Stock</td>\n",
       "      <td>GCO</td>\n",
       "      <td>100</td>\n",
       "    </tr>\n",
       "    <tr>\n",
       "      <th>15</th>\n",
       "      <td>GUESS?, INC.</td>\n",
       "      <td>0</td>\n",
       "      <td>Guess? Inc. Common Stock</td>\n",
       "      <td>GES</td>\n",
       "      <td>100</td>\n",
       "    </tr>\n",
       "    <tr>\n",
       "      <th>16</th>\n",
       "      <td>Hamilton Beach Brands Holding Company</td>\n",
       "      <td>0</td>\n",
       "      <td>Hamilton Beach Brands Holding Company Class A ...</td>\n",
       "      <td>HBB</td>\n",
       "      <td>100</td>\n",
       "    </tr>\n",
       "    <tr>\n",
       "      <th>17</th>\n",
       "      <td>Helen of Troy Limited</td>\n",
       "      <td>0</td>\n",
       "      <td>Helen of Troy Limited Common Stock</td>\n",
       "      <td>HELE</td>\n",
       "      <td>100</td>\n",
       "    </tr>\n",
       "    <tr>\n",
       "      <th>18</th>\n",
       "      <td>Herman Miller, Inc.</td>\n",
       "      <td>0</td>\n",
       "      <td>Herman Miller Inc. Common Stock</td>\n",
       "      <td>MLHR</td>\n",
       "      <td>100</td>\n",
       "    </tr>\n",
       "    <tr>\n",
       "      <th>19</th>\n",
       "      <td>Hibbett Sports</td>\n",
       "      <td>0</td>\n",
       "      <td>Hibbett Sports Inc. Common Stock</td>\n",
       "      <td>HIBB</td>\n",
       "      <td>100</td>\n",
       "    </tr>\n",
       "    <tr>\n",
       "      <th>20</th>\n",
       "      <td>Lands' End</td>\n",
       "      <td>0</td>\n",
       "      <td>Lands' End Inc. Common Stock</td>\n",
       "      <td>LE</td>\n",
       "      <td>100</td>\n",
       "    </tr>\n",
       "    <tr>\n",
       "      <th>21</th>\n",
       "      <td>Leslie's Inc.</td>\n",
       "      <td>0</td>\n",
       "      <td>Leslie's Inc. Common Stock</td>\n",
       "      <td>LESL</td>\n",
       "      <td>100</td>\n",
       "    </tr>\n",
       "  </tbody>\n",
       "</table>\n",
       "</div>"
      ],
      "text/plain": [
       "                                  company  val  \\\n",
       "0                     Abercrombie & Fitch    0   \n",
       "1                                 Aritzia    0   \n",
       "2                      At Home Group Inc.    0   \n",
       "3                              Betterware    0   \n",
       "4                    Big 5 Sporting Goods    0   \n",
       "5                                Big Lots    0   \n",
       "6                Boot Barn Holdings, Inc.    0   \n",
       "7                                 Caleres    0   \n",
       "8                             Citi Trends    0   \n",
       "9                             Crocs, Inc.    0   \n",
       "10                    Delta Apparel, Inc.    0   \n",
       "11                             Five Below    0   \n",
       "12                   Franchise Group Inc.    0   \n",
       "13                               GameStop    0   \n",
       "14                           Genesco Inc.    0   \n",
       "15                           GUESS?, INC.    0   \n",
       "16  Hamilton Beach Brands Holding Company    0   \n",
       "17                  Helen of Troy Limited    0   \n",
       "18                    Herman Miller, Inc.    0   \n",
       "19                         Hibbett Sports    0   \n",
       "20                             Lands' End    0   \n",
       "21                          Leslie's Inc.    0   \n",
       "\n",
       "                                                 name ticker  score  \n",
       "0            Abercrombie & Fitch Company Common Stock    ANF    100  \n",
       "1                                         Alight Inc.   ALIT     47  \n",
       "2                     At Home Group Inc. Common Stock   HOME    100  \n",
       "3   Betterware de Mexico S.A.B. de C.V. Ordinary S...   BWMX    100  \n",
       "4       Big 5 Sporting Goods Corporation Common Stock   BGFV    100  \n",
       "5                          Big Lots Inc. Common Stock    BIG    100  \n",
       "6                Boot Barn Holdings Inc. Common Stock   BOOT    100  \n",
       "7                           Caleres Inc. Common Stock    CAL    100  \n",
       "8                       Citi Trends Inc. Common Stock   CTRN    100  \n",
       "9                             Crocs Inc. Common Stock   CROX    100  \n",
       "10                    Delta Apparel Inc. Common Stock    DLA    100  \n",
       "11                       Five Below Inc. Common Stock   FIVE    100  \n",
       "12                  Franchise Group Inc. Common Stock    FRG    100  \n",
       "13                  GameStop Corporation Common Stock    GME    100  \n",
       "14                          Genesco Inc. Common Stock    GCO    100  \n",
       "15                           Guess? Inc. Common Stock    GES    100  \n",
       "16  Hamilton Beach Brands Holding Company Class A ...    HBB    100  \n",
       "17                 Helen of Troy Limited Common Stock   HELE    100  \n",
       "18                    Herman Miller Inc. Common Stock   MLHR    100  \n",
       "19                   Hibbett Sports Inc. Common Stock   HIBB    100  \n",
       "20                       Lands' End Inc. Common Stock     LE    100  \n",
       "21                         Leslie's Inc. Common Stock   LESL    100  "
      ]
     },
     "execution_count": 62,
     "metadata": {},
     "output_type": "execute_result"
    }
   ],
   "source": [
    "df"
   ]
  },
  {
   "cell_type": "code",
   "execution_count": null,
   "metadata": {},
   "outputs": [],
   "source": []
  }
 ],
 "metadata": {
  "kernelspec": {
   "display_name": "Python 3",
   "language": "python",
   "name": "python3"
  },
  "language_info": {
   "codemirror_mode": {
    "name": "ipython",
    "version": 3
   },
   "file_extension": ".py",
   "mimetype": "text/x-python",
   "name": "python",
   "nbconvert_exporter": "python",
   "pygments_lexer": "ipython3",
   "version": "3.7.9"
  }
 },
 "nbformat": 4,
 "nbformat_minor": 4
}
