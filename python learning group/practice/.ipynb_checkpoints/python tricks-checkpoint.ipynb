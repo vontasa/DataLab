{
 "cells": [
  {
   "cell_type": "markdown",
   "metadata": {},
   "source": [
    "### Python tricks"
   ]
  },
  {
   "cell_type": "code",
   "execution_count": 2,
   "metadata": {},
   "outputs": [
    {
     "name": "stdout",
     "output_type": "stream",
     "text": [
      "before:  1 2\n",
      "after:  2 1\n"
     ]
    }
   ],
   "source": [
    "# swapping values\n",
    "a, b = 1,2\n",
    "print('before: ',a, b)\n",
    "a, b = b, a\n",
    "print('after: ',a, b)"
   ]
  },
  {
   "cell_type": "code",
   "execution_count": 9,
   "metadata": {},
   "outputs": [
    {
     "name": "stdout",
     "output_type": "stream",
     "text": [
      "['python', 'tricks', 'collection']\n",
      "python tricks collection\n"
     ]
    }
   ],
   "source": [
    "# create a single string from all the elements in a list\n",
    "a=['python', 'tricks','collection']\n",
    "print(a)\n",
    "print(' '.join(a))"
   ]
  },
  {
   "cell_type": "code",
   "execution_count": 20,
   "metadata": {},
   "outputs": [
    {
     "name": "stdout",
     "output_type": "stream",
     "text": [
      "[1, 3, 2, 4, 3, 2, 3, 1, 2, 1, 2, 2, 4, 2]\n",
      "2\n",
      "[(2, 6), (1, 3), (3, 3)]\n"
     ]
    }
   ],
   "source": [
    "# find the most frequent value in a list\n",
    "a = [1,3,2,4,3,2,3,1,2,1,2,2,4,2]\n",
    "print(a)\n",
    "## using set, key\n",
    "print(max(set(a), key = a.count))\n",
    "## using counter. It provides more information\n",
    "from collections import Counter\n",
    "cnt = Counter(a)\n",
    "print(cnt.most_common(3))"
   ]
  },
  {
   "cell_type": "code",
   "execution_count": 23,
   "metadata": {},
   "outputs": [
    {
     "data": {
      "text/plain": [
       "True"
      ]
     },
     "execution_count": 23,
     "metadata": {},
     "output_type": "execute_result"
    }
   ],
   "source": [
    "# Checking if two words are anagrams\n",
    "from collections import Counter\n",
    "str1 ='ideal'\n",
    "str2 = 'eaild' \n",
    "Counter(str1) == Counter(str2)"
   ]
  },
  {
   "cell_type": "code",
   "execution_count": 32,
   "metadata": {},
   "outputs": [
    {
     "name": "stdout",
     "output_type": "stream",
     "text": [
      "['a', 'b', 'c', 'd', 'E', 'F', 'G', '1', '2', '3', '4']\n",
      "4321GFEdcba\n",
      "['4', '3', '2', '1', 'G', 'F', 'E', 'd', 'c', 'b', 'a']\n",
      "4\n",
      "3\n",
      "2\n",
      "1\n",
      "G\n",
      "F\n",
      "E\n",
      "d\n",
      "c\n",
      "b\n",
      "a\n"
     ]
    }
   ],
   "source": [
    "# Reverse a string or a list\n",
    "a = 'abcdEFG1234'\n",
    "print(a[::-1])\n",
    "b = list(a)\n",
    "print(b[::-1])\n",
    "\n",
    "# iterating reverse object\n",
    "for char in reversed(a):\n",
    "    print(char)"
   ]
  },
  {
   "cell_type": "code",
   "execution_count": null,
   "metadata": {
    "collapsed": true
   },
   "outputs": [],
   "source": []
  }
 ],
 "metadata": {
  "kernelspec": {
   "display_name": "Python 3",
   "language": "python",
   "name": "python3"
  },
  "language_info": {
   "codemirror_mode": {
    "name": "ipython",
    "version": 3
   },
   "file_extension": ".py",
   "mimetype": "text/x-python",
   "name": "python",
   "nbconvert_exporter": "python",
   "pygments_lexer": "ipython3",
   "version": "3.6.1"
  }
 },
 "nbformat": 4,
 "nbformat_minor": 2
}
