{
 "cells": [
  {
   "cell_type": "code",
   "execution_count": 515,
   "metadata": {
    "collapsed": false
   },
   "outputs": [],
   "source": [
    "#0\n",
    "import math\n",
    "import random\n",
    "import numpy as np\n",
    "import pandas as pd\n",
    "from scipy.spatial import distance\n",
    "import time"
   ]
  },
  {
   "cell_type": "code",
   "execution_count": 554,
   "metadata": {
    "collapsed": true
   },
   "outputs": [],
   "source": [
    "#1: Initial values\n",
    "global cities\n",
    "global totalCities\n",
    "global order\n",
    "global popSize\n",
    "global recordDistance\n",
    "global bestEver\n",
    "global population\n",
    "global fitness\n",
    "\n",
    "cities = []\n",
    "totalCities = 5\n",
    "order = []\n",
    "popSize = 500\n",
    "\n",
    "recordDistance = 9999999999999\n",
    "bestEver = []\n",
    "\n",
    "population = []\n",
    "fitness = []"
   ]
  },
  {
   "cell_type": "code",
   "execution_count": 555,
   "metadata": {
    "collapsed": true
   },
   "outputs": [],
   "source": [
    "def swap(a, i, j):\n",
    "    temp = a[i]\n",
    "    a[i] = a[j]\n",
    "    a[j] = temp"
   ]
  },
  {
   "cell_type": "code",
   "execution_count": 556,
   "metadata": {
    "collapsed": false
   },
   "outputs": [],
   "source": [
    "def calcDistance(points, order):\n",
    "    summ = 0\n",
    "    for i in range(0, len(order)-1):\n",
    "        cityAIndex = order[i]\n",
    "        cityA = points[cityAIndex]\n",
    "        cityBIndex = order[i+1]\n",
    "        cityB = points[cityBIndex]\n",
    "        d = math.sqrt((cityB[0] - cityB[0])**2 + (cityB[1] - cityA[1])**2)\n",
    "        summ += d\n",
    "    return summ"
   ]
  },
  {
   "cell_type": "code",
   "execution_count": 557,
   "metadata": {
    "collapsed": false
   },
   "outputs": [],
   "source": [
    "#3: Calculate the Fitness of the Population, i.e. the distance, and returning the global variable Fitness\n",
    "def calcFitness():\n",
    "    global population\n",
    "    global recordDistance\n",
    "    global fitness\n",
    "    \n",
    "    for i in range(0, len(population)):\n",
    "        d = calcDistance(cities, population[i])\n",
    "\n",
    "        if d < recordDistance:\n",
    "            recordDistance = d\n",
    "            bestEver = population[i]\n",
    "        \n",
    "        toAppend = 1 / (d+1)\n",
    "        fitness.append(toAppend)\n",
    "    return fitness"
   ]
  },
  {
   "cell_type": "code",
   "execution_count": 558,
   "metadata": {
    "collapsed": true
   },
   "outputs": [],
   "source": [
    "#4: Normalizing Fitness Values\n",
    "def normalizeFitness():\n",
    "    global fitness\n",
    "    summ = 0\n",
    "    for i in range(0, len(fitness)):\n",
    "        summ += fitness[i]\n",
    "    for i in range(0, len(fitness)):\n",
    "        fitness[i] = fitness[i] / summ"
   ]
  },
  {
   "cell_type": "code",
   "execution_count": 559,
   "metadata": {
    "collapsed": true
   },
   "outputs": [],
   "source": [
    "#5: Generate the next population based on the mutation function\n",
    "def nextGeneration():\n",
    "    global population\n",
    "    global fitness\n",
    "    \n",
    "    newPopulation = []\n",
    "    for i in range(0, len(fitness)):\n",
    "        #orderA = pickOne(population, fitness)\n",
    "        #orderB = pickOne(population, fitness)\n",
    "        #order = crossOver(orderA, orderB)\n",
    "        order = pickOne(population, fitness)\n",
    "        mutate(order, 0.01)\n",
    "        newPopulation.append(order)\n",
    "    population = newPopulation\n",
    "    print len(newPopulation)"
   ]
  },
  {
   "cell_type": "code",
   "execution_count": 560,
   "metadata": {
    "collapsed": true
   },
   "outputs": [],
   "source": [
    "#6: Called by (#5 above) and chooses a population list based on fitness\n",
    "def pickOne(lis, prob):\n",
    "    index = 0\n",
    "    r = random.random()\n",
    "    \n",
    "    while r > 0:\n",
    "        r = r - prob[index]\n",
    "        index += 1\n",
    "    \n",
    "    if index > len(lis):\n",
    "        index = len(lis)\n",
    "    index -= 1\n",
    "    return lis[index]"
   ]
  },
  {
   "cell_type": "code",
   "execution_count": 561,
   "metadata": {
    "collapsed": true
   },
   "outputs": [],
   "source": [
    "##Not currently used\n",
    "def crossOver(orderA, orderB):\n",
    "    start = int(math.floor(random.random()*len(orderA)))\n",
    "    end = int(math.floor(random.randint(start + 1, len(orderA))))\n",
    "    neworder = orderA[start:end]\n",
    "    \n",
    "    for i in range(0, len(orderB)):\n",
    "        city = orderB[i]\n",
    "        if city not in neworder:\n",
    "            neworder.append(city)\n",
    "    \n",
    "    return neworder"
   ]
  },
  {
   "cell_type": "code",
   "execution_count": 562,
   "metadata": {
    "collapsed": false
   },
   "outputs": [],
   "source": [
    "#7: Called by (#5 above) and mutates the population based on swapping of randoming indexes\n",
    "def mutate(order, mutationRate):\n",
    "    for i in range(0, totalCities):\n",
    "        indexA = int(math.floor(random.random()*len(order)))\n",
    "        indexB = int(math.floor(random.random()*len(order)))\n",
    "    swap(order, indexA, indexB)"
   ]
  },
  {
   "cell_type": "code",
   "execution_count": 563,
   "metadata": {
    "collapsed": false
   },
   "outputs": [],
   "source": [
    "#2: Generates population\n",
    "def setup():\n",
    "    global cities\n",
    "    global population\n",
    "    \n",
    "    for i in range(0, totalCities):\n",
    "        v = [random.random()*100, random.random()*100]\n",
    "        cities.append(v)\n",
    "        order.append(i)\n",
    "\n",
    "    for i in range(0, popSize):\n",
    "        ocopy = order[:]\n",
    "        random.shuffle(ocopy)\n",
    "        population.append(ocopy)"
   ]
  },
  {
   "cell_type": "code",
   "execution_count": 564,
   "metadata": {
    "collapsed": false
   },
   "outputs": [
    {
     "name": "stdout",
     "output_type": "stream",
     "text": [
      "[]\n",
      "500\n",
      "89.5494326173\n",
      "1000\n",
      "Record Distance:  89.5494326173\n",
      "Best Ever:  []\n",
      "2000\n",
      "Record Distance:  89.5494326173\n",
      "Best Ever:  []\n",
      "4000\n",
      "Record Distance:  89.5494326173\n",
      "Best Ever:  []\n",
      "8000\n",
      "Record Distance:  89.5494326173\n",
      "Best Ever:  []\n"
     ]
    },
    {
     "ename": "KeyboardInterrupt",
     "evalue": "",
     "output_type": "error",
     "traceback": [
      "\u001b[1;31m---------------------------------------------------------------------------\u001b[0m",
      "\u001b[1;31mKeyboardInterrupt\u001b[0m                         Traceback (most recent call last)",
      "\u001b[1;32m<ipython-input-564-252c69a5be4a>\u001b[0m in \u001b[0;36m<module>\u001b[1;34m()\u001b[0m\n\u001b[0;32m     17\u001b[0m     \u001b[0mcalcFitness\u001b[0m\u001b[1;33m(\u001b[0m\u001b[1;33m)\u001b[0m\u001b[1;33m\u001b[0m\u001b[0m\n\u001b[0;32m     18\u001b[0m     \u001b[0mnormalizeFitness\u001b[0m\u001b[1;33m(\u001b[0m\u001b[1;33m)\u001b[0m\u001b[1;33m\u001b[0m\u001b[0m\n\u001b[1;32m---> 19\u001b[1;33m     \u001b[0mnextGeneration\u001b[0m\u001b[1;33m(\u001b[0m\u001b[1;33m)\u001b[0m\u001b[1;33m\u001b[0m\u001b[0m\n\u001b[0m\u001b[0;32m     20\u001b[0m     \u001b[1;32mprint\u001b[0m \u001b[1;34m\"Record Distance: \"\u001b[0m\u001b[1;33m,\u001b[0m \u001b[0mrecordDistance\u001b[0m\u001b[1;33m\u001b[0m\u001b[0m\n\u001b[0;32m     21\u001b[0m     \u001b[1;32mprint\u001b[0m \u001b[1;34m\"Best Ever: \"\u001b[0m\u001b[1;33m,\u001b[0m \u001b[0mbestEver\u001b[0m\u001b[1;33m\u001b[0m\u001b[0m\n",
      "\u001b[1;32m<ipython-input-559-681232131b10>\u001b[0m in \u001b[0;36mnextGeneration\u001b[1;34m()\u001b[0m\n\u001b[0;32m      9\u001b[0m         \u001b[1;31m#orderB = pickOne(population, fitness)\u001b[0m\u001b[1;33m\u001b[0m\u001b[1;33m\u001b[0m\u001b[0m\n\u001b[0;32m     10\u001b[0m         \u001b[1;31m#order = crossOver(orderA, orderB)\u001b[0m\u001b[1;33m\u001b[0m\u001b[1;33m\u001b[0m\u001b[0m\n\u001b[1;32m---> 11\u001b[1;33m         \u001b[0morder\u001b[0m \u001b[1;33m=\u001b[0m \u001b[0mpickOne\u001b[0m\u001b[1;33m(\u001b[0m\u001b[0mpopulation\u001b[0m\u001b[1;33m,\u001b[0m \u001b[0mfitness\u001b[0m\u001b[1;33m)\u001b[0m\u001b[1;33m\u001b[0m\u001b[0m\n\u001b[0m\u001b[0;32m     12\u001b[0m         \u001b[0mmutate\u001b[0m\u001b[1;33m(\u001b[0m\u001b[0morder\u001b[0m\u001b[1;33m,\u001b[0m \u001b[1;36m0.01\u001b[0m\u001b[1;33m)\u001b[0m\u001b[1;33m\u001b[0m\u001b[0m\n\u001b[0;32m     13\u001b[0m         \u001b[0mnewPopulation\u001b[0m\u001b[1;33m.\u001b[0m\u001b[0mappend\u001b[0m\u001b[1;33m(\u001b[0m\u001b[0morder\u001b[0m\u001b[1;33m)\u001b[0m\u001b[1;33m\u001b[0m\u001b[0m\n",
      "\u001b[1;32m<ipython-input-560-20653aa4fcbb>\u001b[0m in \u001b[0;36mpickOne\u001b[1;34m(lis, prob)\u001b[0m\n\u001b[0;32m      5\u001b[0m \u001b[1;33m\u001b[0m\u001b[0m\n\u001b[0;32m      6\u001b[0m     \u001b[1;32mwhile\u001b[0m \u001b[0mr\u001b[0m \u001b[1;33m>\u001b[0m \u001b[1;36m0\u001b[0m\u001b[1;33m:\u001b[0m\u001b[1;33m\u001b[0m\u001b[0m\n\u001b[1;32m----> 7\u001b[1;33m         \u001b[0mr\u001b[0m \u001b[1;33m=\u001b[0m \u001b[0mr\u001b[0m \u001b[1;33m-\u001b[0m \u001b[0mprob\u001b[0m\u001b[1;33m[\u001b[0m\u001b[0mindex\u001b[0m\u001b[1;33m]\u001b[0m\u001b[1;33m\u001b[0m\u001b[0m\n\u001b[0m\u001b[0;32m      8\u001b[0m         \u001b[0mindex\u001b[0m \u001b[1;33m+=\u001b[0m \u001b[1;36m1\u001b[0m\u001b[1;33m\u001b[0m\u001b[0m\n\u001b[0;32m      9\u001b[0m \u001b[1;33m\u001b[0m\u001b[0m\n",
      "\u001b[1;31mKeyboardInterrupt\u001b[0m: "
     ]
    }
   ],
   "source": [
    "start = time.time()\n",
    "\n",
    "print population\n",
    "setup()\n",
    "calcFitness()\n",
    "normalizeFitness()\n",
    "nextGeneration()\n",
    "print recordDistance\n",
    "\n",
    "end = time.time()\n",
    "elapsed = end - start\n",
    "elapsed\n",
    "\n",
    "for i in range(0, 20):\n",
    "    i\n",
    "    sl = time.time()\n",
    "    calcFitness()\n",
    "    normalizeFitness()\n",
    "    nextGeneration()\n",
    "    print \"Record Distance: \", recordDistance\n",
    "    print \"Best Ever: \", bestEver\n",
    "    el = time.time()\n",
    "    etl = el - sl\n",
    "    etl\n"
   ]
  },
  {
   "cell_type": "code",
   "execution_count": 528,
   "metadata": {
    "collapsed": false
   },
   "outputs": [
    {
     "data": {
      "text/plain": [
       "0.0"
      ]
     },
     "execution_count": 528,
     "metadata": {},
     "output_type": "execute_result"
    }
   ],
   "source": [
    "start = time.time()\n",
    "end = time.time()\n",
    "elapsed = end - start\n",
    "elapsed"
   ]
  },
  {
   "cell_type": "code",
   "execution_count": 416,
   "metadata": {
    "collapsed": false
   },
   "outputs": [
    {
     "name": "stdout",
     "output_type": "stream",
     "text": [
      "[3, 1, 4, 2, 0]\n",
      "[3, 4, 1, 2, 0]\n"
     ]
    }
   ],
   "source": []
  },
  {
   "cell_type": "code",
   "execution_count": null,
   "metadata": {
    "collapsed": true
   },
   "outputs": [],
   "source": []
  }
 ],
 "metadata": {
  "kernelspec": {
   "display_name": "Python 2",
   "language": "python",
   "name": "python2"
  },
  "language_info": {
   "codemirror_mode": {
    "name": "ipython",
    "version": 2
   },
   "file_extension": ".py",
   "mimetype": "text/x-python",
   "name": "python",
   "nbconvert_exporter": "python",
   "pygments_lexer": "ipython2",
   "version": "2.7.11"
  }
 },
 "nbformat": 4,
 "nbformat_minor": 0
}
