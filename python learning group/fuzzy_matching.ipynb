{
 "cells": [
  {
   "cell_type": "markdown",
   "metadata": {},
   "source": [
    "### Fuzzy matching demo\n",
    "Fuzzywuzzy package\n",
    "- Uses Levenshtein distance to measure the similarity between two string\n",
    "- library [link](https://anaconda.org/jkroes/fuzzywuzzy)\n",
    "- Referece code, [link](https://medium.com/better-programming/fuzzy-string-matching-with-python-cafeff0d29fe)"
   ]
  },
  {
   "cell_type": "code",
   "execution_count": 8,
   "metadata": {},
   "outputs": [],
   "source": [
    "from fuzzywuzzy import process, fuzz\n",
    "import pandas as pd\n",
    "from tqdm.notebook import tqdm, trange"
   ]
  },
  {
   "cell_type": "markdown",
   "metadata": {},
   "source": [
    "#### Simple ratio\n",
    "The `ratio` method compares the whole string and follows the standard Levenshtein distance similarity ratio between two strings:"
   ]
  },
  {
   "cell_type": "code",
   "execution_count": 20,
   "metadata": {},
   "outputs": [
    {
     "name": "stdout",
     "output_type": "stream",
     "text": [
      "String Matched: 96\n",
      "String Matched: 91\n",
      "String Matched: 100\n"
     ]
    }
   ],
   "source": [
    "# Simple ratio\n",
    "String_Matched = fuzz.ratio('Hello World', 'Hello World!')\n",
    "print(\"String Matched:\",String_Matched)\n",
    "String_Matched = fuzz.ratio('Hello World', 'Hello world')\n",
    "print(\"String Matched:\",String_Matched)\n",
    "String_Matched = fuzz.ratio('Hello world', 'Hello world')\n",
    "print(\"String Matched:\",String_Matched)"
   ]
  },
  {
   "cell_type": "markdown",
   "metadata": {},
   "source": [
    "#### Partial ratio\n",
    "The `partial_ratio` method works on “optimal partial” logic. If the short string k and long string m are considered, the algorithm will score by matching the length of the k string:"
   ]
  },
  {
   "cell_type": "code",
   "execution_count": 23,
   "metadata": {},
   "outputs": [
    {
     "name": "stdout",
     "output_type": "stream",
     "text": [
      "String Matched: 100\n",
      "String Matched: 91\n"
     ]
    }
   ],
   "source": [
    "# Partial ratio\n",
    "Str_Partial_Match = fuzz.partial_ratio('Hello World', 'Hello World!')\n",
    "print(\"String Matched:\",Str_Partial_Match)\n",
    "Str_Partial_Match = fuzz.partial_ratio('Hello World', 'Hello world')\n",
    "print(\"String Matched:\",Str_Partial_Match)"
   ]
  },
  {
   "cell_type": "markdown",
   "metadata": {},
   "source": [
    "#### Token sort ratio\n",
    "The `token_sort_ratio` method sorts the tokens alphabetically. Then, the simple `ratio` method is applied to output the matched percentage:"
   ]
  },
  {
   "cell_type": "code",
   "execution_count": 24,
   "metadata": {},
   "outputs": [
    {
     "name": "stdout",
     "output_type": "stream",
     "text": [
      "String Matched: 91\n",
      "String Matched: 91\n"
     ]
    }
   ],
   "source": [
    "# Token sort ratio\n",
    "Str_Sort_Match = fuzz.token_sort_ratio('Hello World', 'Hello wrld')\n",
    "print(\"String Matched:\",Str_Partial_Match)\n",
    "Str_Sort_Match = fuzz.token_sort_ratio('Hello World', 'world Hello')\n",
    "print(\"String Matched:\",Str_Partial_Match)"
   ]
  },
  {
   "cell_type": "markdown",
   "metadata": {},
   "source": [
    "#### Token set ratio\n",
    "The `token_set_ratio` ignores the duplicate words. It is similar to the sort ratio method but more flexible. It basically extracts the common tokens and then applies `fuzz.ratio()` for comparisons:"
   ]
  },
  {
   "cell_type": "code",
   "execution_count": null,
   "metadata": {},
   "outputs": [],
   "source": [
    "# Token set ratio\n",
    "String_Matched=fuzz.token_set_ratio('Hello World', 'Hello Hello world')\n",
    "print(String_Matched)"
   ]
  },
  {
   "cell_type": "markdown",
   "metadata": {},
   "source": [
    "## Example\n",
    "**Description:** Given a company name, find its standard name and stock tickers. \n",
    "**Context:** It is quite often we need to find out if a company public or private and its stock tickers. Quite often, the name we have is not standard, like \"Apple\" , \"apple inc\". We need to compare the name to NYSE/NASDAQ/AMEX/OTC data and fuzzy matching it to the right company and estimate the quality of the matching. \n"
   ]
  },
  {
   "cell_type": "code",
   "execution_count": 4,
   "metadata": {},
   "outputs": [
    {
     "data": {
      "text/html": [
       "<div>\n",
       "<style scoped>\n",
       "    .dataframe tbody tr th:only-of-type {\n",
       "        vertical-align: middle;\n",
       "    }\n",
       "\n",
       "    .dataframe tbody tr th {\n",
       "        vertical-align: top;\n",
       "    }\n",
       "\n",
       "    .dataframe thead th {\n",
       "        text-align: right;\n",
       "    }\n",
       "</style>\n",
       "<table border=\"1\" class=\"dataframe\">\n",
       "  <thead>\n",
       "    <tr style=\"text-align: right;\">\n",
       "      <th></th>\n",
       "      <th>company</th>\n",
       "    </tr>\n",
       "  </thead>\n",
       "  <tbody>\n",
       "    <tr>\n",
       "      <th>0</th>\n",
       "      <td>1drop Inc.</td>\n",
       "    </tr>\n",
       "    <tr>\n",
       "      <th>1</th>\n",
       "      <td>1VALET, Inc.</td>\n",
       "    </tr>\n",
       "    <tr>\n",
       "      <th>2</th>\n",
       "      <td>2020 Companies</td>\n",
       "    </tr>\n",
       "    <tr>\n",
       "      <th>3</th>\n",
       "      <td>233621</td>\n",
       "    </tr>\n",
       "    <tr>\n",
       "      <th>4</th>\n",
       "      <td>247mytutor Co., Ltd.</td>\n",
       "    </tr>\n",
       "  </tbody>\n",
       "</table>\n",
       "</div>"
      ],
      "text/plain": [
       "                company\n",
       "0            1drop Inc.\n",
       "1          1VALET, Inc.\n",
       "2        2020 Companies\n",
       "3                233621\n",
       "4  247mytutor Co., Ltd."
      ]
     },
     "execution_count": 4,
     "metadata": {},
     "output_type": "execute_result"
    }
   ],
   "source": [
    "\n",
    "# Source of tickers: https://www.nasdaq.com/market-activity/stocks/screener?exchange=NASDAQ&render=download\n",
    "# This is the dictionary\n",
    "nasdaq_tickers = pd.read_csv('data/NASDAQ.csv') # read Nasdaq company list\n",
    "amex_tickers = pd.read_csv('data/AMEX.csv') # read Amex company list\n",
    "otcbb_tickers = pd.read_csv('data/OTCBB.csv') # read OTC company list\n",
    "nyse_tickers = pd.read_csv('data/NYSE.csv') # read NYSE company list\n",
    "\n",
    "# Add exchange label\n",
    "nasdaq_tickers['exchange'] = 'Nasdaq'\n",
    "amex_tickers['exchange'] = 'AMEX'\n",
    "otcbb_tickers['exchange'] = 'OTC'\n",
    "nyse_tickers['exchange'] = 'NYSE'\n",
    "\n",
    "# Read the list of companies which we need look for tickers\n",
    "df = pd.read_csv('data/CES2021.csv')\n",
    "df.columns = ['company']\n",
    "df.head()"
   ]
  },
  {
   "cell_type": "code",
   "execution_count": 5,
   "metadata": {},
   "outputs": [
    {
     "data": {
      "text/html": [
       "<div>\n",
       "<style scoped>\n",
       "    .dataframe tbody tr th:only-of-type {\n",
       "        vertical-align: middle;\n",
       "    }\n",
       "\n",
       "    .dataframe tbody tr th {\n",
       "        vertical-align: top;\n",
       "    }\n",
       "\n",
       "    .dataframe thead th {\n",
       "        text-align: right;\n",
       "    }\n",
       "</style>\n",
       "<table border=\"1\" class=\"dataframe\">\n",
       "  <thead>\n",
       "    <tr style=\"text-align: right;\">\n",
       "      <th></th>\n",
       "      <th>Symbol</th>\n",
       "      <th>Name</th>\n",
       "      <th>exchange</th>\n",
       "    </tr>\n",
       "  </thead>\n",
       "  <tbody>\n",
       "    <tr>\n",
       "      <th>0</th>\n",
       "      <td>AACG</td>\n",
       "      <td>Ata Creativity Global</td>\n",
       "      <td>Nasdaq</td>\n",
       "    </tr>\n",
       "    <tr>\n",
       "      <th>1</th>\n",
       "      <td>AACQ</td>\n",
       "      <td>Artius Acquisition Inc Cl A</td>\n",
       "      <td>Nasdaq</td>\n",
       "    </tr>\n",
       "    <tr>\n",
       "      <th>2</th>\n",
       "      <td>AACQU</td>\n",
       "      <td>Artius Acquisition Inc Unit</td>\n",
       "      <td>Nasdaq</td>\n",
       "    </tr>\n",
       "    <tr>\n",
       "      <th>3</th>\n",
       "      <td>AACQW</td>\n",
       "      <td>Artius Acquisition Inc WT</td>\n",
       "      <td>Nasdaq</td>\n",
       "    </tr>\n",
       "    <tr>\n",
       "      <th>4</th>\n",
       "      <td>AAL</td>\n",
       "      <td>American Airlines Gp</td>\n",
       "      <td>Nasdaq</td>\n",
       "    </tr>\n",
       "  </tbody>\n",
       "</table>\n",
       "</div>"
      ],
      "text/plain": [
       "  Symbol                         Name exchange\n",
       "0   AACG        Ata Creativity Global   Nasdaq\n",
       "1   AACQ  Artius Acquisition Inc Cl A   Nasdaq\n",
       "2  AACQU  Artius Acquisition Inc Unit   Nasdaq\n",
       "3  AACQW    Artius Acquisition Inc WT   Nasdaq\n",
       "4    AAL         American Airlines Gp   Nasdaq"
      ]
     },
     "execution_count": 5,
     "metadata": {},
     "output_type": "execute_result"
    }
   ],
   "source": [
    "# Union all tickers together\n",
    "tickers = pd.concat([nasdaq_tickers, amex_tickers, otcbb_tickers, nyse_tickers])\n",
    "tickers.reset_index(drop=True, inplace=True)\n",
    "tickers = tickers.astype(str)\n",
    "tickers.head()"
   ]
  },
  {
   "cell_type": "markdown",
   "metadata": {},
   "source": [
    "#### Function to match tickers to a list of companies\n",
    "`tickers` is a dictionary of company name and stock tickers. Our goal is to get the sotck ticker by fuzzy matching standard company name to `stra` in dataframe `df`."
   ]
  },
  {
   "cell_type": "code",
   "execution_count": 6,
   "metadata": {},
   "outputs": [
    {
     "name": "stdout",
     "output_type": "stream",
     "text": [
      "Name        Big 5 Sporting\n",
      "Symbol                BGFV\n",
      "exchange            Nasdaq\n",
      "score                  100\n",
      "Name: 427, dtype: object\n"
     ]
    }
   ],
   "source": [
    "# Function searching ticker list and find the top 3 similar record\n",
    "# a_str: string to be matched\n",
    "# df: dictionary\n",
    "# b_str: target\n",
    "# b_return: a list of columns to be returned when matched. \n",
    "def fuzzy_match(a_str, df, b_str, b_return, topN = 1):\n",
    "    df['score'] = df.apply(lambda row : fuzz.token_set_ratio(a_str.lower(), \n",
    "                                row[b_str].lower()), axis = 1)\n",
    "    # get the top record by similarity\n",
    "    top_record = df.nlargest(topN, 'score')[[b_str]+ b_return+ ['score']]\n",
    "    return top_record.iloc[0]\n",
    "# Test\n",
    "print(fuzzy_match('Big 5 Sporting Goods', tickers, 'Name' ,['Symbol','exchange']))"
   ]
  },
  {
   "cell_type": "code",
   "execution_count": null,
   "metadata": {},
   "outputs": [
    {
     "name": "stderr",
     "output_type": "stream",
     "text": [
      "/Users/yan/opt/anaconda3/lib/python3.7/site-packages/tqdm/std.py:699: FutureWarning: The Panel class is removed from pandas. Accessing it from the top-level namespace will also be removed in the next version\n",
      "  from pandas import Panel\n"
     ]
    },
    {
     "data": {
      "application/vnd.jupyter.widget-view+json": {
       "model_id": "515cc110eacc43678ef4f82a89b0dd44",
       "version_major": 2,
       "version_minor": 0
      },
      "text/plain": [
       "HBox(children=(HTML(value=''), FloatProgress(value=0.0, max=1891.0), HTML(value='')))"
      ]
     },
     "metadata": {},
     "output_type": "display_data"
    }
   ],
   "source": [
    "# There are 2000 companied to be matched and 20k tickers in the dictionary. It takes ~ 5 min to complete\n",
    "# Create and register a new `tqdm` instance with `pandas`\n",
    "tqdm.pandas()\n",
    "# Use progress_apply() instead of apply to call the progress bar\n",
    "df[['name','ticker','exchange','score']] = df.progress_apply(lambda row : fuzzy_match(row['company'], tickers, 'Name' ,['Symbol','exchange']), axis = 1)"
   ]
  },
  {
   "cell_type": "code",
   "execution_count": 72,
   "metadata": {},
   "outputs": [],
   "source": [
    "df\n",
    "df.to_csv('data/ces2021_matched.csv', index = False)"
   ]
  }
 ],
 "metadata": {
  "kernelspec": {
   "display_name": "Python 3",
   "language": "python",
   "name": "python3"
  },
  "language_info": {
   "codemirror_mode": {
    "name": "ipython",
    "version": 3
   },
   "file_extension": ".py",
   "mimetype": "text/x-python",
   "name": "python",
   "nbconvert_exporter": "python",
   "pygments_lexer": "ipython3",
   "version": "3.7.9"
  }
 },
 "nbformat": 4,
 "nbformat_minor": 4
}
