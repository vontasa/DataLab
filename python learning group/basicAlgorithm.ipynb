{
 "cells": [
  {
   "cell_type": "markdown",
   "metadata": {},
   "source": [
    "### Knapsack Problem"
   ]
  },
  {
   "cell_type": "code",
   "execution_count": 16,
   "metadata": {},
   "outputs": [
    {
     "name": "stdout",
     "output_type": "stream",
     "text": [
      "items:\n",
      "map\n",
      "compass\n",
      "water\n",
      "sandwich\n",
      "glucose\n",
      "banana\n",
      "suntan cream\n",
      "waterproof trousers\n",
      "waterproof overclothes\n",
      "note-case\n",
      "sunglasses\n",
      "socks\n",
      "value: 1030\n",
      "weight: 396\n"
     ]
    }
   ],
   "source": [
    "\n",
    "def total_value(items, max_weight):\n",
    "    # Another way to use condition, do... if true else do...\n",
    "    return  sum([x[2] for x in items]) if sum([x[1] for x in items]) < max_weight else 0\n",
    " \n",
    "cache = {}\n",
    "def knapsack_recursive(items, max_weight):\n",
    "    if not items:\n",
    "        return ()\n",
    "    if (items,max_weight) not in cache:\n",
    "        head = items[0]\n",
    "        tail = items[1:]\n",
    "        include = head + solve(tail, max_weight - head[1])\n",
    "        dont_include = solve(tail, max_weight)\n",
    "        if total_value(include, max_weight) > total_value(dont_include, max_weight):\n",
    "            answer = include\n",
    "        else:\n",
    "            answer = dont_include\n",
    "        cache[(items,max_weight)] = answer\n",
    "    return cache[(items,max_weight)]\n",
    "\n",
    "# (name, weight, value)\n",
    "items = (\n",
    "    (\"map\", 9, 150), (\"compass\", 13, 35), (\"water\", 153, 200), (\"sandwich\", 50, 160),\n",
    "    (\"glucose\", 15, 60), (\"tin\", 68, 45), (\"banana\", 27, 60), (\"apple\", 39, 40),\n",
    "    (\"cheese\", 23, 30), (\"beer\", 52, 10), (\"suntan cream\", 11, 70), (\"camera\", 32, 30),\n",
    "    (\"t-shirt\", 24, 15), (\"trousers\", 48, 10), (\"umbrella\", 73, 40),\n",
    "    (\"waterproof trousers\", 42, 70), (\"waterproof overclothes\", 43, 75),\n",
    "    (\"note-case\", 22, 80), (\"sunglasses\", 7, 20), (\"towel\", 18, 12),\n",
    "    (\"socks\", 4, 50), (\"book\", 30, 10),\n",
    "    )\n",
    "max_weight = 400\n",
    " \n",
    "solution = solve(items, max_weight)\n",
    "print \"items:\"\n",
    "for x in solution:\n",
    "    print x[0]\n",
    "print \"value:\", total_value(solution, max_weight)\n",
    "print \"weight:\", sum([x[1] for x in solution])"
   ]
  },
  {
   "cell_type": "code",
   "execution_count": 6,
   "metadata": {},
   "outputs": [
    {
     "data": {
      "text/plain": [
       "tuple"
      ]
     },
     "execution_count": 6,
     "metadata": {},
     "output_type": "execute_result"
    }
   ],
   "source": [
    "type(items)"
   ]
  },
  {
   "cell_type": "markdown",
   "metadata": {},
   "source": [
    "## Copy reference vs value"
   ]
  },
  {
   "cell_type": "code",
   "execution_count": 10,
   "metadata": {},
   "outputs": [
    {
     "name": "stdout",
     "output_type": "stream",
     "text": [
      "m before append: []\n",
      "l after append: [1, 2, 5, 2]\n",
      "m after append: [[1, 2, 5, 2]]\n",
      "m after l changes: [[1, 2, 5, 2]]\n",
      "m before append: [[1, 2, 5, 2]]\n",
      "l after append: [1, 2, 5, 4]\n",
      "m after append: [[1, 2, 5, 2], [1, 2, 5, 4]]\n",
      "m after l changes: [[1, 2, 5, 2], [1, 2, 5, 4]]\n"
     ]
    }
   ],
   "source": [
    "l=[1,2,5]\n",
    "n=[2,4]\n",
    "m=[]\n",
    "k=[]\n",
    "for i in range(len(n)):\n",
    "    print(\"m before append:\",m)\n",
    "    l.append(n[i])\n",
    "    print(\"l after append:\",l)\n",
    "    m.append(l.copy()) # m.append(l) will copy the reference, l.copy() passes the value\n",
    "    print(\"m after append:\",m)\n",
    "    l.pop()\n",
    "    print(\"m after l changes:\", m)\n",
    "    \n",
    "    "
   ]
  },
  {
   "cell_type": "code",
   "execution_count": 31,
   "metadata": {},
   "outputs": [
    {
     "name": "stdout",
     "output_type": "stream",
     "text": [
      "pos [[[[0, 0]]], [[[0, 0]]]]\n",
      "pos_t [[[0, 0]]]\n",
      "pos_t+1 [[[0, 0]]]\n",
      "pos after extend [[[[0, 0]], [[0, 0]]], [[[0, 0]], [[0, 0]]]]\n",
      "pos_t after extend [[[0, 0]], [[0, 0]]]\n",
      "pos_t+1 after extend [[[0, 0]], [[0, 0]]]\n",
      "pos [[[[0, 0], [1, 2]], [[0, 0], [1, 2]]], [[[0, 0], [1, 2]], [[0, 0], [1, 2]]]]\n",
      "pos_t [[[0, 0], [1, 2]], [[0, 0], [1, 2]]]\n",
      "pos_t+1 [[[0, 0], [1, 2]], [[0, 0], [1, 2]]]\n",
      "pos after extend [[[[0, 0], [1, 2]], [[0, 0], [1, 2]], [[0, 0], [1, 2]]], [[[0, 0], [1, 2]], [[0, 0], [1, 2]], [[0, 0], [1, 2]]]]\n",
      "pos_t after extend [[[0, 0], [1, 2]], [[0, 0], [1, 2]], [[0, 0], [1, 2]]]\n",
      "pos_t+1 after extend [[[0, 0], [1, 2]], [[0, 0], [1, 2]], [[0, 0], [1, 2]]]\n"
     ]
    }
   ],
   "source": [
    "from itertools import repeat\n",
    "T=1 # Steps\n",
    "move = [[1,2],[1,-2],[-1,2], [-1,-2], [2,1],[2,-1], [-2,1],[-2,-1]]\n",
    "next_pos = []\n",
    "pos=[[[[0,0]]]]\n",
    "for t in range(T):\n",
    "    pos.append(pos[t])\n",
    "    for c in range(len(pos[t])):\n",
    "        for m in move:\n",
    "            new_x = pos[t][c][t][0] + m[0]\n",
    "            new_y = pos[t][c][t][1] + m[1]\n",
    "            # check if new pos is within the board\n",
    "            if 0<new_x<3 and 0<new_y<3:\n",
    "                next_pos.append(list([new_x, new_y]))\n",
    "                print('pos', pos)\n",
    "                print('pos_t', pos[t])\n",
    "                print('pos_t+1', pos[t+1])\n",
    "                pos[t+1].extend(repeat(pos[t][c], len(next_pos)))\n",
    "                print('pos after extend', pos)\n",
    "                print('pos_t after extend', pos[t])\n",
    "                print('pos_t+1 after extend', pos[t+1])\n",
    "                for i in range(len(next_pos)):\n",
    "                    pos[t+1][-i-1].append(next_pos[i])\n",
    "                next_pos=[]\n",
    "\n"
   ]
  },
  {
   "cell_type": "code",
   "execution_count": 27,
   "metadata": {},
   "outputs": [
    {
     "name": "stdout",
     "output_type": "stream",
     "text": [
      "[1, 1]\n",
      "[1, 1]\n"
     ]
    }
   ],
   "source": [
    "l=[[0,0],[1,1],[2,2]]\n",
    "e=['e','e']\n",
    "print(l[1])\n",
    "l[1+1].extend(e)\n",
    "print(l[1])"
   ]
  }
 ],
 "metadata": {
  "kernelspec": {
   "display_name": "Python 3",
   "language": "python",
   "name": "python3"
  },
  "language_info": {
   "codemirror_mode": {
    "name": "ipython",
    "version": 3
   },
   "file_extension": ".py",
   "mimetype": "text/x-python",
   "name": "python",
   "nbconvert_exporter": "python",
   "pygments_lexer": "ipython3",
   "version": "3.5.2"
  }
 },
 "nbformat": 4,
 "nbformat_minor": 2
}
