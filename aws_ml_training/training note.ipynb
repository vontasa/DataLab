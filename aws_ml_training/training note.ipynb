{
 "cells": [
  {
   "cell_type": "markdown",
   "metadata": {},
   "source": [
    "# Machine learning in AWS\n",
    "Trainer: Kyle and Mark\n",
    "## Session 1\n",
    "### AWS Overview\n",
    "ML is applied in AMAZ in FBA, search, video&book, new product, go\n",
    "Platform:\n",
    "- SageMaker: This is a ML project management service. It has pre-built general code templates for user to pick and customize. Manage the training process. Optimize the parameters.Deploy the model. Compare the performance of several models.\n",
    "- AWS DeepLens: image and video recognition\n",
    "- Spark & EMR\n",
    "- Mechanical Turk: Crowd sourcing manually data labeling platform.\n",
    "\n",
    "Below the platform, AWS supports most of the major frameworks. It's called **Amazon AMI**: Tensorflow, PyTorch, Keras, ApacheMNet, Caffe/2. Instances are deployed on EC2."
   ]
  },
  {
   "cell_type": "code",
   "execution_count": 3,
   "metadata": {},
   "outputs": [],
   "source": [
    "import numpy as np\n",
    "import pandas as pd\n",
    "import tensorflow as tf"
   ]
  },
  {
   "cell_type": "code",
   "execution_count": null,
   "metadata": {
    "collapsed": true
   },
   "outputs": [],
   "source": []
  }
 ],
 "metadata": {
  "kernelspec": {
   "display_name": "Python 3",
   "language": "python",
   "name": "python3"
  },
  "language_info": {
   "codemirror_mode": {
    "name": "ipython",
    "version": 3
   },
   "file_extension": ".py",
   "mimetype": "text/x-python",
   "name": "python",
   "nbconvert_exporter": "python",
   "pygments_lexer": "ipython3",
   "version": "3.6.1"
  }
 },
 "nbformat": 4,
 "nbformat_minor": 2
}
